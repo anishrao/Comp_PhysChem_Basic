{
 "cells": [
  {
   "cell_type": "code",
   "execution_count": 1,
   "id": "08dcd8dd",
   "metadata": {},
   "outputs": [
    {
     "name": "stdout",
     "output_type": "stream",
     "text": [
      "The value of the integral is:  7.9788851408858035  with a numerical error of  6.324787538147802e-08\n",
      "Heat capacity of Cu at T = 103 K is:  14.751861725666032  J mol^-1 K^-1\n"
     ]
    }
   ],
   "source": [
    "import numpy as np\n",
    "from scipy import integrate\n",
    "\n",
    "R=8.314     # gas constant in J K^-1 mol^-1\n",
    "\n",
    "Theta_D=309 # Debye Temperature of copper in K\n",
    "\n",
    "T = 90     # given K at which we want molar heat capacity\n",
    "\n",
    "def fn_I(x):\n",
    "    fn_I= x**4 * np.exp(x) / (np.exp(x)-1)**2\n",
    "    return fn_I\n",
    "\n",
    "# For fine-tuning the integration settings see the scipy documenation  \n",
    "# https://docs.scipy.org/doc/scipy/reference/generated/scipy.integrate.quadrature.html\n",
    "\n",
    "Integral=integrate.quadrature(fn_I, 0.0, Theta_D/T) \n",
    "\n",
    "print(\"The value of the integral is: \",Integral[0], \" with a numerical error of \", Integral[1])\n",
    "\n",
    "CV=9*R*(T/Theta_D)**3*Integral[0]\n",
    "\n",
    "print(\"Heat capacity of Cu at T = 103 K is: \",CV, \" J mol^-1 K^-1\")"
   ]
  }
 ],
 "metadata": {
  "kernelspec": {
   "display_name": "Python 3",
   "language": "python",
   "name": "python3"
  },
  "language_info": {
   "codemirror_mode": {
    "name": "ipython",
    "version": 3
   },
   "file_extension": ".py",
   "mimetype": "text/x-python",
   "name": "python",
   "nbconvert_exporter": "python",
   "pygments_lexer": "ipython3",
   "version": "3.9.4"
  }
 },
 "nbformat": 4,
 "nbformat_minor": 5
}
