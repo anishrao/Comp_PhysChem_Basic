{
 "cells": [
  {
   "cell_type": "code",
   "execution_count": 1,
   "id": "702cff41",
   "metadata": {},
   "outputs": [
    {
     "name": "stdout",
     "output_type": "stream",
     "text": [
      "The value of the integral is:  7.9788851408858035  with a numerical error of  6.324787538147802e-08\n",
      "Heat capacity of Cu at T = 103 K is:  14.751861725666032  J mol^-1 K^-1\n"
     ]
    }
   ],
   "source": [
    "import numpy as np\n",
    "from scipy import integrate\n",
    "\n",
    "R=8.314     # gas constant in J K^-1 mol^-1\n",
    "\n",
    "Theta_D=309 # Debye Temperature of copper in K\n",
    "\n",
    "T = 90     # given K at which we want molar heat capacity\n",
    "\n",
    "def fn_I(x):\n",
    "    fn_I= x**4 * np.exp(x) / (np.exp(x)-1)**2\n",
    "    return fn_I\n",
    "\n",
    "# For fine-tuning the integration settings see the scipy documenation  \n",
    "# https://docs.scipy.org/doc/scipy/reference/generated/scipy.integrate.quadrature.html\n",
    "\n",
    "Integral=integrate.quadrature(fn_I, 0.0, Theta_D/T) \n",
    "\n",
    "print(\"The value of the integral is: \",Integral[0], \" with a numerical error of \", Integral[1])\n",
    "\n",
    "CV=9*R*(T/Theta_D)**3*Integral[0]\n",
    "\n",
    "print(\"Heat capacity of Cu at T = 103 K is: \",CV, \" J mol^-1 K^-1\")"
   ]
  },
  {
   "cell_type": "code",
   "execution_count": 2,
   "id": "c8618ba5",
   "metadata": {},
   "outputs": [
    {
     "data": {
      "image/png": "[encoded data removed]",
      "text/plain": [
       "<Figure size 432x288 with 1 Axes>"
      ]
     },
     "metadata": {
      "needs_background": "light"
     },
     "output_type": "display_data"
    }
   ],
   "source": [
    "import matplotlib.pyplot as plt\n",
    "\n",
    "#=== Temperature\n",
    "T_i=1\n",
    "T_f=500\n",
    "N_T=501\n",
    "T=np.linspace(T_i, T_f, N_T)\n",
    "\n",
    "#=== Heat capacities\n",
    "Cv=np.zeros(501)\n",
    "for i in range(501):\n",
    "    Integral=integrate.quadrature(fn_I, 0.0, Theta_D/T[i]) \n",
    "    Cv[i]=9*R*(T[i]/Theta_D)**3*Integral[0]\n",
    "\n",
    "#=== Plot\n",
    "plt.plot(T,Cv/(3*R))\n",
    "plt.title('Molar heat capacity of Cu', fontsize=12)\n",
    "plt.xlim(0,501)\n",
    "plt.ylim(-0.05,1.15)\n",
    "plt.xlabel(\"$T$\", fontsize=12)\n",
    "plt.ylabel(\"C$_V$/3R\", fontsize=12)\n",
    "plt.text(195,1.0, 'approaches the Dulong-Petit limit', fontsize=12)\n",
    "plt.savefig('heatcapacity.png') \n",
    "plt.show()"
   ]
  },
  {
   "cell_type": "code",
   "execution_count": null,
   "id": "d1b0af7d",
   "metadata": {},
   "outputs": [],
   "source": []
  }
 ],
 "metadata": {
  "kernelspec": {
   "display_name": "Python 3",
   "language": "python",
   "name": "python3"
  },
  "language_info": {
   "codemirror_mode": {
    "name": "ipython",
    "version": 3
   },
   "file_extension": ".py",
   "mimetype": "text/x-python",
   "name": "python",
   "nbconvert_exporter": "python",
   "pygments_lexer": "ipython3",
   "version": "3.9.4"
  }
 },
 "nbformat": 4,
 "nbformat_minor": 5
}
