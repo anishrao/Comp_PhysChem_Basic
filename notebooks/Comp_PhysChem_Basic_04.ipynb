{
 "cells": [
  {
   "cell_type": "code",
   "execution_count": 1,
   "id": "6d6e10c7",
   "metadata": {},
   "outputs": [
    {
     "name": "stdout",
     "output_type": "stream",
     "text": [
      "Force constant of hydrogen molecule cation is:  [0.04297412]  hartree/bohr^2\n"
     ]
    }
   ],
   "source": [
    "import numpy as np\n",
    "from scipy import optimize\n",
    "\n",
    "def E(x):\n",
    "    zeta=x\n",
    "    S=(1 + zeta*R + (1/3)*(zeta*R)**2) * np.exp(-zeta*R)\n",
    "    J=(1/2)*zeta**2 - zeta -1/R + (1/R+zeta) * np.exp(-2*zeta*R)\n",
    "    K=-(1/2) * S*zeta**2 - zeta * (1+zeta*R) * (2-zeta) * np.exp(-zeta*R)\n",
    "    E=( J + K )/(1 + S) + 1/R\n",
    "    return E\n",
    "\n",
    "R0=2.0032944446083936\n",
    "dR = 0.1   #=== dR, step size of 0.1\n",
    "\n",
    "R=R0\n",
    "solution=optimize.minimize(E,1.0,method='L-BFGS-B',options={'ftol': 1e-15})\n",
    "V0=solution.fun\n",
    "\n",
    "R=R+dR\n",
    "solution=optimize.minimize(E,1.0,method='L-BFGS-B',options={'ftol': 1e-15})\n",
    "V_plus=solution.fun\n",
    "\n",
    "R=R-dR\n",
    "solution=optimize.minimize(E,1.0,method='L-BFGS-B',options={'ftol': 1e-15})\n",
    "V_minus=solution.fun\n",
    "\n",
    "k = (V_plus+V_minus-2*V0)/(dR**2)\n",
    "\n",
    "print(\"Force constant of hydrogen molecule cation is: \", k, \" hartree/bohr^2\")"
   ]
  },
  {
   "cell_type": "code",
   "execution_count": 2,
   "id": "c7cedf31",
   "metadata": {},
   "outputs": [
    {
     "name": "stdout",
     "output_type": "stream",
     "text": [
      "For dR= 1.0  force constant is [0.0221568]  hartree/bohr^2\n",
      "For dR= 0.1  force constant is [0.04297412]  hartree/bohr^2\n",
      "For dR= 0.01  force constant is [0.04641588]  hartree/bohr^2\n",
      "For dR= 0.001  force constant is [0.04668428]  hartree/bohr^2\n",
      "For dR= 0.0001  force constant is [0.04574696]  hartree/bohr^2\n",
      "For dR= 1e-05  force constant is [0.03599565]  hartree/bohr^2\n"
     ]
    }
   ],
   "source": [
    "for i in range(6):\n",
    "    \n",
    "    dR=1/10**i\n",
    "    \n",
    "    R=R+dR\n",
    "    solution=optimize.minimize(E,1.0,method='L-BFGS-B',options={'ftol': 1e-15})\n",
    "    V_plus=solution.fun\n",
    "\n",
    "    R=R-dR\n",
    "    solution=optimize.minimize(E,1.0,method='L-BFGS-B',options={'ftol': 1e-15})\n",
    "    V_minus=solution.fun\n",
    "    \n",
    "    k = (V_plus+V_minus-2*V0)/(dR**2)\n",
    "\n",
    "    print(\"For dR=\", dR, \" force constant is\", k, \" hartree/bohr^2\")\n",
    "    "
   ]
  },
  {
   "cell_type": "code",
   "execution_count": 3,
   "id": "c1a0233f",
   "metadata": {},
   "outputs": [
    {
     "name": "stdout",
     "output_type": "stream",
     "text": [
      "Harmonic wavenumber of H_2^+ molecule is: 1564.423867968304  cm^-1\n"
     ]
    }
   ],
   "source": [
    "# Factors for unit conversion\n",
    "hartree2j = 4.359743941424844e-18   # hartree to J\n",
    "bohr2m    = 5.291772083164631e-11   # bohr to m\n",
    "amu2kg    = 1.660538782000000e-27   # amu to kg\n",
    "\n",
    "# Force constant\n",
    "k = 0.04668                         # in hartree/bohr^2\n",
    "k = k * hartree2j/(bohr2m**2)       # in J/m^2\n",
    "\n",
    "# Speed of light\n",
    "c = 2.99792458 * 10**8              # m/s\n",
    "c = c*100                           # in cm/s\n",
    "\n",
    "# Mass, reduced-mass\n",
    "mass = 1.008                        # in amu\n",
    "mu=mass/2 * amu2kg                  # in kg, mu=m1*m2/(m1+m2)\n",
    "\n",
    "# Wave number\n",
    "nubar=(1/(2*np.pi*c))*np.sqrt(k/mu) # in cm^-1\n",
    "\n",
    "print('Harmonic wavenumber of H_2^+ molecule is:', nubar, ' cm^-1')"
   ]
  }
 ],
 "metadata": {
  "kernelspec": {
   "display_name": "Python 3",
   "language": "python",
   "name": "python3"
  },
  "language_info": {
   "codemirror_mode": {
    "name": "ipython",
    "version": 3
   },
   "file_extension": ".py",
   "mimetype": "text/x-python",
   "name": "python",
   "nbconvert_exporter": "python",
   "pygments_lexer": "ipython3",
   "version": "3.9.4"
  }
 },
 "nbformat": 4,
 "nbformat_minor": 5
}
