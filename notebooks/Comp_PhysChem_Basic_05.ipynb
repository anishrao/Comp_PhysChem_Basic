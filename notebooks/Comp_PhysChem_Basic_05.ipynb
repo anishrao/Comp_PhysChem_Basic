{
 "cells": [
  {
   "cell_type": "code",
   "execution_count": 1,
   "id": "1df9c6aa",
   "metadata": {},
   "outputs": [
    {
     "name": "stdout",
     "output_type": "stream",
     "text": [
      "[[ 0. -1.]\n",
      " [-1.  0.]]\n"
     ]
    }
   ],
   "source": [
    "import numpy as np\n",
    "from numpy import linalg as npla\n",
    "\n",
    "def eig(A):\n",
    "    eigenValues, eigenVectors = npla.eig(A)\n",
    "    idx = np.argsort(eigenValues)\n",
    "    eigenValues = eigenValues[idx]\n",
    "    eigenVectors = eigenVectors[:,idx]\n",
    "    return (eigenValues, eigenVectors)\n",
    "\n",
    "# Ethylene\n",
    "H=np.zeros([2,2])\n",
    "\n",
    "H[0][1]=-1\n",
    "H[1][0]=-1\n",
    "\n",
    "print(H)"
   ]
  },
  {
   "cell_type": "code",
   "execution_count": 2,
   "id": "a249b2dc",
   "metadata": {},
   "outputs": [],
   "source": [
    "E,V=eig(H)"
   ]
  },
  {
   "cell_type": "code",
   "execution_count": 3,
   "id": "539458c8",
   "metadata": {},
   "outputs": [
    {
     "name": "stdout",
     "output_type": "stream",
     "text": [
      "[-1.  1.]\n"
     ]
    }
   ],
   "source": [
    "print(E)"
   ]
  },
  {
   "cell_type": "code",
   "execution_count": 4,
   "id": "30a12ede",
   "metadata": {},
   "outputs": [
    {
     "name": "stdout",
     "output_type": "stream",
     "text": [
      "[[ 0.70710678  0.70710678]\n",
      " [ 0.70710678 -0.70710678]]\n"
     ]
    }
   ],
   "source": [
    "print(V)"
   ]
  },
  {
   "cell_type": "code",
   "execution_count": 5,
   "id": "99a89127",
   "metadata": {},
   "outputs": [
    {
     "name": "stdout",
     "output_type": "stream",
     "text": [
      "[[ 0. -1.  0.  0.]\n",
      " [-1.  0. -1.  0.]\n",
      " [ 0. -1.  0. -1.]\n",
      " [ 0.  0. -1.  0.]]\n"
     ]
    }
   ],
   "source": [
    "# 1,3-Butadiene\n",
    "H=np.zeros([4,4])\n",
    "\n",
    "for i in range(4):\n",
    "    for j in range(4):\n",
    "        if np.abs(i-j)==1:\n",
    "            H[i][j]=-1\n",
    "\n",
    "print(H)"
   ]
  },
  {
   "cell_type": "code",
   "execution_count": 6,
   "id": "7b930c2f",
   "metadata": {},
   "outputs": [],
   "source": [
    "E,V=eig(H)"
   ]
  },
  {
   "cell_type": "code",
   "execution_count": 7,
   "id": "d4fb701e",
   "metadata": {},
   "outputs": [
    {
     "name": "stdout",
     "output_type": "stream",
     "text": [
      "[-1.61803399 -0.61803399  0.61803399  1.61803399]\n"
     ]
    }
   ],
   "source": [
    "print(E)"
   ]
  },
  {
   "cell_type": "code",
   "execution_count": 8,
   "id": "433204e5",
   "metadata": {},
   "outputs": [
    {
     "name": "stdout",
     "output_type": "stream",
     "text": [
      "[[ 0.37174803 -0.60150096  0.60150096 -0.37174803]\n",
      " [ 0.60150096 -0.37174803 -0.37174803  0.60150096]\n",
      " [ 0.60150096  0.37174803 -0.37174803 -0.60150096]\n",
      " [ 0.37174803  0.60150096  0.60150096  0.37174803]]\n"
     ]
    }
   ],
   "source": [
    "print(V)"
   ]
  },
  {
   "cell_type": "code",
   "execution_count": 9,
   "id": "52a0bf46",
   "metadata": {},
   "outputs": [
    {
     "name": "stdout",
     "output_type": "stream",
     "text": [
      "[[ 0. -1.  0.  0.  0. -1.]\n",
      " [-1.  0. -1.  0.  0.  0.]\n",
      " [ 0. -1.  0. -1.  0.  0.]\n",
      " [ 0.  0. -1.  0. -1.  0.]\n",
      " [ 0.  0.  0. -1.  0. -1.]\n",
      " [-1.  0.  0.  0. -1.  0.]]\n"
     ]
    }
   ],
   "source": [
    "# Benzene\n",
    "H=np.zeros([6,6])\n",
    "\n",
    "for i in range(6):\n",
    "    for j in range(6):\n",
    "        if np.abs(i-j)==1:\n",
    "            H[i][j]=-1\n",
    "H[0][5]=-1\n",
    "H[5][0]=-1\n",
    "print(H)"
   ]
  },
  {
   "cell_type": "code",
   "execution_count": 10,
   "id": "3ce7d3fd",
   "metadata": {},
   "outputs": [],
   "source": [
    "E,V=eig(H)"
   ]
  },
  {
   "cell_type": "code",
   "execution_count": 11,
   "id": "569f84c6",
   "metadata": {},
   "outputs": [
    {
     "name": "stdout",
     "output_type": "stream",
     "text": [
      "[-2. -1. -1.  1.  1.  2.]\n"
     ]
    }
   ],
   "source": [
    "print(E)"
   ]
  },
  {
   "cell_type": "code",
   "execution_count": 12,
   "id": "642ca808",
   "metadata": {},
   "outputs": [
    {
     "name": "stdout",
     "output_type": "stream",
     "text": [
      "[[ 0.40824829  0.57245374  0.07503368  0.57735027 -0.09791921  0.40824829]\n",
      " [ 0.40824829  0.22124579  0.53327632 -0.28867513 -0.4437968  -0.40824829]\n",
      " [ 0.40824829 -0.35120794  0.45824264 -0.28867513  0.54171601  0.40824829]\n",
      " [ 0.40824829 -0.57245374 -0.07503368  0.57735027 -0.09791921 -0.40824829]\n",
      " [ 0.40824829 -0.22124579 -0.53327632 -0.28867513 -0.4437968   0.40824829]\n",
      " [ 0.40824829  0.35120794 -0.45824264 -0.28867513  0.54171601 -0.40824829]]\n"
     ]
    }
   ],
   "source": [
    "print(V)"
   ]
  }
 ],
 "metadata": {
  "kernelspec": {
   "display_name": "Python 3",
   "language": "python",
   "name": "python3"
  },
  "language_info": {
   "codemirror_mode": {
    "name": "ipython",
    "version": 3
   },
   "file_extension": ".py",
   "mimetype": "text/x-python",
   "name": "python",
   "nbconvert_exporter": "python",
   "pygments_lexer": "ipython3",
   "version": "3.9.4"
  }
 },
 "nbformat": 4,
 "nbformat_minor": 5
}
