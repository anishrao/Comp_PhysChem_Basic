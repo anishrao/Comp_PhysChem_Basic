{
 "cells": [
  {
   "cell_type": "code",
   "execution_count": 1,
   "id": "dfb39e7d",
   "metadata": {},
   "outputs": [
    {
     "data": {
      "image/png": "[encoded data removed]",
      "text/plain": [
       "<Figure size 432x288 with 1 Axes>"
      ]
     },
     "metadata": {
      "needs_background": "light"
     },
     "output_type": "display_data"
    }
   ],
   "source": [
    "import numpy as np\n",
    "import matplotlib.pyplot as plt\n",
    "\n",
    "#=== x-values\n",
    "x_min=0.0\n",
    "x_max=0.5\n",
    "x_grids=501\n",
    "x=np.linspace(x_min, x_max, x_grids)\n",
    "\n",
    "#=== f(x) values \n",
    "f=4*x**3 - 8.72*x**2 + 8.72*x - 2.18\n",
    "\n",
    "#=== plot\n",
    "plt.plot(x,f)\n",
    "plt.title('Cubic expression')\n",
    "plt.grid()\n",
    "plt.savefig('cubic.png') \n",
    "plt.show()"
   ]
  },
  {
   "cell_type": "code",
   "execution_count": 2,
   "id": "c8463df6",
   "metadata": {},
   "outputs": [
    {
     "data": {
      "text/plain": [
       "      converged: True\n",
       "           flag: 'converged'\n",
       " function_calls: 7\n",
       "     iterations: 6\n",
       "           root: 0.3560857818097863"
      ]
     },
     "execution_count": 2,
     "metadata": {},
     "output_type": "execute_result"
    }
   ],
   "source": [
    "from scipy import optimize\n",
    "\n",
    "def f(x):\n",
    "    f=4*x**3 - 8.72*x**2 + 8.72*x - 2.18\n",
    "    return f\n",
    "\n",
    "xguess=0.1\n",
    "solution=optimize.root_scalar(f, fprime=None, x1=xguess+0.01, method='secant', bracket=None, x0=xguess, \\\n",
    "                     options={'tol':1e-6, 'maxiter':100})\n",
    "solution"
   ]
  },
  {
   "cell_type": "code",
   "execution_count": 3,
   "id": "4422e95f",
   "metadata": {},
   "outputs": [
    {
     "name": "stdout",
     "output_type": "stream",
     "text": [
      "The partial pressure of NOCl is  0.28782843638042743\n",
      "The partial pressure of NO is  0.7121715636195726\n",
      "The partial pressure of Cl2 is  0.3560857818097863\n"
     ]
    }
   ],
   "source": [
    "x=solution.root\n",
    "print(\"The partial pressure of NOCl is \",1-2*x)\n",
    "print(\"The partial pressure of NO is \",2*x)\n",
    "print(\"The partial pressure of Cl2 is \",x)"
   ]
  }
 ],
 "metadata": {
  "kernelspec": {
   "display_name": "Python 3",
   "language": "python",
   "name": "python3"
  },
  "language_info": {
   "codemirror_mode": {
    "name": "ipython",
    "version": 3
   },
   "file_extension": ".py",
   "mimetype": "text/x-python",
   "name": "python",
   "nbconvert_exporter": "python",
   "pygments_lexer": "ipython3",
   "version": "3.9.4"
  }
 },
 "nbformat": 4,
 "nbformat_minor": 5
}
